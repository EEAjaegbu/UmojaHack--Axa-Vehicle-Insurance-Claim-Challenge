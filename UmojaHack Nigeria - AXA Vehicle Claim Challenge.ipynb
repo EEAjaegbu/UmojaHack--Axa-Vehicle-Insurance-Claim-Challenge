{
 "cells": [
  {
   "cell_type": "markdown",
   "metadata": {},
   "source": [
    "#### Load Core Libraries "
   ]
  },
  {
   "cell_type": "code",
   "execution_count": 1,
   "metadata": {},
   "outputs": [],
   "source": [
    "import pandas as pd\n",
    "import numpy as np\n",
    "import datetime\n",
    "\n",
    "import seaborn as sns\n",
    "import matplotlib.pyplot as plt\n",
    "\n",
    "from sklearn.model_selection import train_test_split\n",
    "np.random.seed(50)"
   ]
  },
  {
   "cell_type": "markdown",
   "metadata": {},
   "source": [
    "#### Load Datasets"
   ]
  },
  {
   "cell_type": "code",
   "execution_count": 36,
   "metadata": {},
   "outputs": [],
   "source": [
    "train = pd.read_csv('Train.csv')\n",
    "test = pd.read_csv('Test.csv')\n",
    "sample_submission = pd.read_csv('SampleSubmission.csv')\n",
    "variable_definition = pd.read_csv('VariableDefinitions.csv')"
   ]
  },
  {
   "cell_type": "markdown",
   "metadata": {},
   "source": [
    "#### Exploratory Data Analysis and Data Preprocessing"
   ]
  },
  {
   "cell_type": "code",
   "execution_count": 37,
   "metadata": {},
   "outputs": [
    {
     "data": {
      "text/html": [
       "<div>\n",
       "<style scoped>\n",
       "    .dataframe tbody tr th:only-of-type {\n",
       "        vertical-align: middle;\n",
       "    }\n",
       "\n",
       "    .dataframe tbody tr th {\n",
       "        vertical-align: top;\n",
       "    }\n",
       "\n",
       "    .dataframe thead th {\n",
       "        text-align: right;\n",
       "    }\n",
       "</style>\n",
       "<table border=\"1\" class=\"dataframe\">\n",
       "  <thead>\n",
       "    <tr style=\"text-align: right;\">\n",
       "      <th></th>\n",
       "      <th>ID</th>\n",
       "      <th>Policy Start Date</th>\n",
       "      <th>Policy End Date</th>\n",
       "      <th>Gender</th>\n",
       "      <th>Age</th>\n",
       "      <th>First Transaction Date</th>\n",
       "      <th>No_Pol</th>\n",
       "      <th>Car_Category</th>\n",
       "      <th>Subject_Car_Colour</th>\n",
       "      <th>Subject_Car_Make</th>\n",
       "      <th>LGA_Name</th>\n",
       "      <th>State</th>\n",
       "      <th>ProductName</th>\n",
       "      <th>target</th>\n",
       "    </tr>\n",
       "  </thead>\n",
       "  <tbody>\n",
       "    <tr>\n",
       "      <th>0</th>\n",
       "      <td>0040R73</td>\n",
       "      <td>2010-05-14</td>\n",
       "      <td>2011-05-13</td>\n",
       "      <td>Male</td>\n",
       "      <td>30</td>\n",
       "      <td>2010-05-14</td>\n",
       "      <td>1</td>\n",
       "      <td>Saloon</td>\n",
       "      <td>Black</td>\n",
       "      <td>TOYOTA</td>\n",
       "      <td>NaN</td>\n",
       "      <td>NaN</td>\n",
       "      <td>Car Classic</td>\n",
       "      <td>0</td>\n",
       "    </tr>\n",
       "    <tr>\n",
       "      <th>1</th>\n",
       "      <td>0046BNK</td>\n",
       "      <td>2010-11-29</td>\n",
       "      <td>2011-11-28</td>\n",
       "      <td>Female</td>\n",
       "      <td>79</td>\n",
       "      <td>2010-11-29</td>\n",
       "      <td>1</td>\n",
       "      <td>JEEP</td>\n",
       "      <td>Grey</td>\n",
       "      <td>TOYOTA</td>\n",
       "      <td>NaN</td>\n",
       "      <td>NaN</td>\n",
       "      <td>Car Classic</td>\n",
       "      <td>1</td>\n",
       "    </tr>\n",
       "    <tr>\n",
       "      <th>2</th>\n",
       "      <td>005QMC3</td>\n",
       "      <td>2010-03-21</td>\n",
       "      <td>2011-03-20</td>\n",
       "      <td>Male</td>\n",
       "      <td>43</td>\n",
       "      <td>2010-03-21</td>\n",
       "      <td>1</td>\n",
       "      <td>Saloon</td>\n",
       "      <td>Red</td>\n",
       "      <td>TOYOTA</td>\n",
       "      <td>NaN</td>\n",
       "      <td>NaN</td>\n",
       "      <td>Car Classic</td>\n",
       "      <td>0</td>\n",
       "    </tr>\n",
       "  </tbody>\n",
       "</table>\n",
       "</div>"
      ],
      "text/plain": [
       "        ID Policy Start Date Policy End Date  Gender  Age  \\\n",
       "0  0040R73        2010-05-14      2011-05-13    Male   30   \n",
       "1  0046BNK        2010-11-29      2011-11-28  Female   79   \n",
       "2  005QMC3        2010-03-21      2011-03-20    Male   43   \n",
       "\n",
       "  First Transaction Date  No_Pol Car_Category Subject_Car_Colour  \\\n",
       "0             2010-05-14       1       Saloon              Black   \n",
       "1             2010-11-29       1         JEEP               Grey   \n",
       "2             2010-03-21       1       Saloon                Red   \n",
       "\n",
       "  Subject_Car_Make LGA_Name State  ProductName  target  \n",
       "0           TOYOTA      NaN   NaN  Car Classic       0  \n",
       "1           TOYOTA      NaN   NaN  Car Classic       1  \n",
       "2           TOYOTA      NaN   NaN  Car Classic       0  "
      ]
     },
     "execution_count": 37,
     "metadata": {},
     "output_type": "execute_result"
    }
   ],
   "source": [
    "#View the Dataset\n",
    "# Train set\n",
    "train.head(3)"
   ]
  },
  {
   "cell_type": "code",
   "execution_count": 38,
   "metadata": {},
   "outputs": [
    {
     "data": {
      "text/html": [
       "<div>\n",
       "<style scoped>\n",
       "    .dataframe tbody tr th:only-of-type {\n",
       "        vertical-align: middle;\n",
       "    }\n",
       "\n",
       "    .dataframe tbody tr th {\n",
       "        vertical-align: top;\n",
       "    }\n",
       "\n",
       "    .dataframe thead th {\n",
       "        text-align: right;\n",
       "    }\n",
       "</style>\n",
       "<table border=\"1\" class=\"dataframe\">\n",
       "  <thead>\n",
       "    <tr style=\"text-align: right;\">\n",
       "      <th></th>\n",
       "      <th>ID</th>\n",
       "      <th>Policy Start Date</th>\n",
       "      <th>Policy End Date</th>\n",
       "      <th>Gender</th>\n",
       "      <th>Age</th>\n",
       "      <th>First Transaction Date</th>\n",
       "      <th>No_Pol</th>\n",
       "      <th>Car_Category</th>\n",
       "      <th>Subject_Car_Colour</th>\n",
       "      <th>Subject_Car_Make</th>\n",
       "      <th>LGA_Name</th>\n",
       "      <th>State</th>\n",
       "      <th>ProductName</th>\n",
       "    </tr>\n",
       "  </thead>\n",
       "  <tbody>\n",
       "    <tr>\n",
       "      <th>0</th>\n",
       "      <td>009D84L</td>\n",
       "      <td>2010-04-24</td>\n",
       "      <td>2011-03-27</td>\n",
       "      <td>NO GENDER</td>\n",
       "      <td>25</td>\n",
       "      <td>2010-04-24</td>\n",
       "      <td>1</td>\n",
       "      <td>NaN</td>\n",
       "      <td>As Attached</td>\n",
       "      <td>Iveco</td>\n",
       "      <td>Victoria Island</td>\n",
       "      <td>Lagos</td>\n",
       "      <td>CVTP</td>\n",
       "    </tr>\n",
       "    <tr>\n",
       "      <th>1</th>\n",
       "      <td>01DO2EQ</td>\n",
       "      <td>2010-01-01</td>\n",
       "      <td>2010-12-31</td>\n",
       "      <td>NaN</td>\n",
       "      <td>120</td>\n",
       "      <td>2010-01-01</td>\n",
       "      <td>4</td>\n",
       "      <td>NaN</td>\n",
       "      <td>As Attached</td>\n",
       "      <td>TOYOTA</td>\n",
       "      <td>Victoria Island</td>\n",
       "      <td>Lagos</td>\n",
       "      <td>Muuve</td>\n",
       "    </tr>\n",
       "    <tr>\n",
       "      <th>2</th>\n",
       "      <td>01QM0NU</td>\n",
       "      <td>2010-10-23</td>\n",
       "      <td>2011-10-22</td>\n",
       "      <td>Female</td>\n",
       "      <td>46</td>\n",
       "      <td>2010-10-23</td>\n",
       "      <td>1</td>\n",
       "      <td>NaN</td>\n",
       "      <td>NaN</td>\n",
       "      <td>Ford</td>\n",
       "      <td>Abuja Municipal</td>\n",
       "      <td>Abuja-Municipal</td>\n",
       "      <td>Car Classic</td>\n",
       "    </tr>\n",
       "  </tbody>\n",
       "</table>\n",
       "</div>"
      ],
      "text/plain": [
       "        ID Policy Start Date Policy End Date     Gender  Age  \\\n",
       "0  009D84L        2010-04-24      2011-03-27  NO GENDER   25   \n",
       "1  01DO2EQ        2010-01-01      2010-12-31        NaN  120   \n",
       "2  01QM0NU        2010-10-23      2011-10-22     Female   46   \n",
       "\n",
       "  First Transaction Date  No_Pol Car_Category Subject_Car_Colour  \\\n",
       "0             2010-04-24       1          NaN        As Attached   \n",
       "1             2010-01-01       4          NaN        As Attached   \n",
       "2             2010-10-23       1          NaN                NaN   \n",
       "\n",
       "  Subject_Car_Make         LGA_Name            State  ProductName  \n",
       "0            Iveco  Victoria Island            Lagos         CVTP  \n",
       "1           TOYOTA  Victoria Island            Lagos        Muuve  \n",
       "2             Ford  Abuja Municipal  Abuja-Municipal  Car Classic  "
      ]
     },
     "execution_count": 38,
     "metadata": {},
     "output_type": "execute_result"
    }
   ],
   "source": [
    "# Test Set\n",
    "test.head(3)"
   ]
  },
  {
   "cell_type": "code",
   "execution_count": 39,
   "metadata": {},
   "outputs": [
    {
     "data": {
      "text/html": [
       "<div>\n",
       "<style scoped>\n",
       "    .dataframe tbody tr th:only-of-type {\n",
       "        vertical-align: middle;\n",
       "    }\n",
       "\n",
       "    .dataframe tbody tr th {\n",
       "        vertical-align: top;\n",
       "    }\n",
       "\n",
       "    .dataframe thead th {\n",
       "        text-align: right;\n",
       "    }\n",
       "</style>\n",
       "<table border=\"1\" class=\"dataframe\">\n",
       "  <thead>\n",
       "    <tr style=\"text-align: right;\">\n",
       "      <th></th>\n",
       "      <th>ID</th>\n",
       "      <th>Unique ID for the customer</th>\n",
       "    </tr>\n",
       "  </thead>\n",
       "  <tbody>\n",
       "    <tr>\n",
       "      <th>0</th>\n",
       "      <td>Policy Start Date</td>\n",
       "      <td>Date policy started</td>\n",
       "    </tr>\n",
       "    <tr>\n",
       "      <th>1</th>\n",
       "      <td>Policy End Date</td>\n",
       "      <td>Date policy ended</td>\n",
       "    </tr>\n",
       "    <tr>\n",
       "      <th>2</th>\n",
       "      <td>Gender</td>\n",
       "      <td>Gender of the customer</td>\n",
       "    </tr>\n",
       "    <tr>\n",
       "      <th>3</th>\n",
       "      <td>Age</td>\n",
       "      <td>Age of the customer</td>\n",
       "    </tr>\n",
       "    <tr>\n",
       "      <th>4</th>\n",
       "      <td>ProductName</td>\n",
       "      <td>Name of Insurance policy</td>\n",
       "    </tr>\n",
       "    <tr>\n",
       "      <th>5</th>\n",
       "      <td>First Transaction Date</td>\n",
       "      <td>First date payment was made</td>\n",
       "    </tr>\n",
       "    <tr>\n",
       "      <th>6</th>\n",
       "      <td>No_Pol</td>\n",
       "      <td>Number of policies the customer has</td>\n",
       "    </tr>\n",
       "    <tr>\n",
       "      <th>7</th>\n",
       "      <td>Car_Category</td>\n",
       "      <td>Type of car</td>\n",
       "    </tr>\n",
       "    <tr>\n",
       "      <th>8</th>\n",
       "      <td>Subject_Car_Colour</td>\n",
       "      <td>Car colour</td>\n",
       "    </tr>\n",
       "    <tr>\n",
       "      <th>9</th>\n",
       "      <td>Subject_Car_Make</td>\n",
       "      <td>Car make</td>\n",
       "    </tr>\n",
       "    <tr>\n",
       "      <th>10</th>\n",
       "      <td>LGA_Name</td>\n",
       "      <td>City where policy was purchased</td>\n",
       "    </tr>\n",
       "    <tr>\n",
       "      <th>11</th>\n",
       "      <td>State</td>\n",
       "      <td>State where policy was purchased</td>\n",
       "    </tr>\n",
       "    <tr>\n",
       "      <th>12</th>\n",
       "      <td>No_of_claims_3_mon_period</td>\n",
       "      <td>Wether the customer claimed within a 3 month p...</td>\n",
       "    </tr>\n",
       "  </tbody>\n",
       "</table>\n",
       "</div>"
      ],
      "text/plain": [
       "                           ID  \\\n",
       "0           Policy Start Date   \n",
       "1             Policy End Date   \n",
       "2                      Gender   \n",
       "3                         Age   \n",
       "4                 ProductName   \n",
       "5      First Transaction Date   \n",
       "6                      No_Pol   \n",
       "7                Car_Category   \n",
       "8          Subject_Car_Colour   \n",
       "9            Subject_Car_Make   \n",
       "10                   LGA_Name   \n",
       "11                      State   \n",
       "12  No_of_claims_3_mon_period   \n",
       "\n",
       "                           Unique ID for the customer  \n",
       "0                                 Date policy started  \n",
       "1                                   Date policy ended  \n",
       "2                              Gender of the customer  \n",
       "3                                 Age of the customer  \n",
       "4                            Name of Insurance policy  \n",
       "5                         First date payment was made  \n",
       "6                 Number of policies the customer has  \n",
       "7                                         Type of car  \n",
       "8                                          Car colour  \n",
       "9                                            Car make  \n",
       "10                    City where policy was purchased  \n",
       "11                   State where policy was purchased  \n",
       "12  Wether the customer claimed within a 3 month p...  "
      ]
     },
     "execution_count": 39,
     "metadata": {},
     "output_type": "execute_result"
    }
   ],
   "source": [
    "# Variable Definition\n",
    "variable_definition"
   ]
  },
  {
   "cell_type": "code",
   "execution_count": 40,
   "metadata": {},
   "outputs": [
    {
     "name": "stdout",
     "output_type": "stream",
     "text": [
      "Train shape: (12079, 14) \n",
      "Test shape: (5177, 13) \n",
      "samplesubmission shape: (5177, 2)\n"
     ]
    }
   ],
   "source": [
    "# Shape of our Datasets\n",
    "print('Train shape:',train.shape,'\\nTest shape:', test.shape, '\\nsamplesubmission shape:',sample_submission.shape)"
   ]
  },
  {
   "cell_type": "code",
   "execution_count": 41,
   "metadata": {},
   "outputs": [
    {
     "name": "stdout",
     "output_type": "stream",
     "text": [
      "<class 'pandas.core.frame.DataFrame'>\n",
      "RangeIndex: 12079 entries, 0 to 12078\n",
      "Data columns (total 14 columns):\n",
      " #   Column                  Non-Null Count  Dtype \n",
      "---  ------                  --------------  ----- \n",
      " 0   ID                      12079 non-null  object\n",
      " 1   Policy Start Date       12079 non-null  object\n",
      " 2   Policy End Date         12079 non-null  object\n",
      " 3   Gender                  11720 non-null  object\n",
      " 4   Age                     12079 non-null  int64 \n",
      " 5   First Transaction Date  12079 non-null  object\n",
      " 6   No_Pol                  12079 non-null  int64 \n",
      " 7   Car_Category            8341 non-null   object\n",
      " 8   Subject_Car_Colour      5117 non-null   object\n",
      " 9   Subject_Car_Make        9603 non-null   object\n",
      " 10  LGA_Name                5603 non-null   object\n",
      " 11  State                   5591 non-null   object\n",
      " 12  ProductName             12079 non-null  object\n",
      " 13  target                  12079 non-null  int64 \n",
      "dtypes: int64(3), object(11)\n",
      "memory usage: 1.3+ MB\n"
     ]
    }
   ],
   "source": [
    "# Information about the trainset\n",
    "train.info()"
   ]
  },
  {
   "cell_type": "code",
   "execution_count": 42,
   "metadata": {},
   "outputs": [
    {
     "name": "stdout",
     "output_type": "stream",
     "text": [
      "<class 'pandas.core.frame.DataFrame'>\n",
      "RangeIndex: 5177 entries, 0 to 5176\n",
      "Data columns (total 13 columns):\n",
      " #   Column                  Non-Null Count  Dtype \n",
      "---  ------                  --------------  ----- \n",
      " 0   ID                      5177 non-null   object\n",
      " 1   Policy Start Date       5177 non-null   object\n",
      " 2   Policy End Date         5177 non-null   object\n",
      " 3   Gender                  5021 non-null   object\n",
      " 4   Age                     5177 non-null   int64 \n",
      " 5   First Transaction Date  5177 non-null   object\n",
      " 6   No_Pol                  5177 non-null   int64 \n",
      " 7   Car_Category            3539 non-null   object\n",
      " 8   Subject_Car_Colour      2172 non-null   object\n",
      " 9   Subject_Car_Make        4116 non-null   object\n",
      " 10  LGA_Name                2395 non-null   object\n",
      " 11  State                   2389 non-null   object\n",
      " 12  ProductName             5177 non-null   object\n",
      "dtypes: int64(2), object(11)\n",
      "memory usage: 525.9+ KB\n"
     ]
    }
   ],
   "source": [
    "test.info()"
   ]
  },
  {
   "cell_type": "code",
   "execution_count": 43,
   "metadata": {},
   "outputs": [
    {
     "data": {
      "text/plain": [
       "ID                         0.000000\n",
       "Policy Start Date          0.000000\n",
       "Policy End Date            0.000000\n",
       "Gender                     2.972100\n",
       "Age                        0.000000\n",
       "First Transaction Date     0.000000\n",
       "No_Pol                     0.000000\n",
       "Car_Category              30.946270\n",
       "Subject_Car_Colour        57.637222\n",
       "Subject_Car_Make          20.498386\n",
       "LGA_Name                  53.613710\n",
       "State                     53.713056\n",
       "ProductName                0.000000\n",
       "target                     0.000000\n",
       "dtype: float64"
      ]
     },
     "execution_count": 43,
     "metadata": {},
     "output_type": "execute_result"
    }
   ],
   "source": [
    "## Checking for Missing Values \n",
    "## Percentage of Missing in the train data\n",
    "(train.isnull().sum()/ train.shape[0]) * 100"
   ]
  },
  {
   "cell_type": "code",
   "execution_count": 44,
   "metadata": {},
   "outputs": [
    {
     "data": {
      "text/plain": [
       "ID                         0.000000\n",
       "Policy Start Date          0.000000\n",
       "Policy End Date            0.000000\n",
       "Gender                     3.013328\n",
       "Age                        0.000000\n",
       "First Transaction Date     0.000000\n",
       "No_Pol                     0.000000\n",
       "Car_Category              31.639946\n",
       "Subject_Car_Colour        58.045200\n",
       "Subject_Car_Make          20.494495\n",
       "LGA_Name                  53.737686\n",
       "State                     53.853583\n",
       "ProductName                0.000000\n",
       "dtype: float64"
      ]
     },
     "execution_count": 44,
     "metadata": {},
     "output_type": "execute_result"
    }
   ],
   "source": [
    "## Checking for Missing Values \n",
    "## Percentage of Missing in the test data\n",
    "(test.isnull().sum()/ test.shape[0]) * 100"
   ]
  },
  {
   "cell_type": "code",
   "execution_count": 45,
   "metadata": {},
   "outputs": [
    {
     "name": "stdout",
     "output_type": "stream",
     "text": [
      "all_data size is : (17256, 14)\n"
     ]
    },
    {
     "data": {
      "text/plain": [
       "ID                        0.000000\n",
       "Policy Start Date         0.000000\n",
       "Policy End Date           0.000000\n",
       "Gender                    0.029845\n",
       "Age                       0.000000\n",
       "First Transaction Date    0.000000\n",
       "No_Pol                    0.000000\n",
       "Car_Category              0.311544\n",
       "Subject_Car_Colour        0.577596\n",
       "Subject_Car_Make          0.204972\n",
       "LGA_Name                  0.536509\n",
       "State                     0.537552\n",
       "ProductName               0.000000\n",
       "target                    0.300012\n",
       "dtype: float64"
      ]
     },
     "execution_count": 45,
     "metadata": {},
     "output_type": "execute_result"
    }
   ],
   "source": [
    "##join train and test together\n",
    "\n",
    "ntrain = train.shape[0]\n",
    "ntest = test.shape[0]\n",
    "\n",
    "all_data = pd.concat((train, test)).reset_index(drop=True)\n",
    "print(\"all_data size is : {}\".format(all_data.shape))\n",
    "\n",
    "## Missing Values \n",
    "all_data.isnull().sum()/all_data.shape[0]"
   ]
  },
  {
   "cell_type": "markdown",
   "metadata": {},
   "source": [
    "###  Data Preprocessing"
   ]
  },
  {
   "cell_type": "code",
   "execution_count": 46,
   "metadata": {},
   "outputs": [
    {
     "data": {
      "text/html": [
       "<div>\n",
       "<style scoped>\n",
       "    .dataframe tbody tr th:only-of-type {\n",
       "        vertical-align: middle;\n",
       "    }\n",
       "\n",
       "    .dataframe tbody tr th {\n",
       "        vertical-align: top;\n",
       "    }\n",
       "\n",
       "    .dataframe thead th {\n",
       "        text-align: right;\n",
       "    }\n",
       "</style>\n",
       "<table border=\"1\" class=\"dataframe\">\n",
       "  <thead>\n",
       "    <tr style=\"text-align: right;\">\n",
       "      <th></th>\n",
       "      <th>ID</th>\n",
       "      <th>Policy Start Date</th>\n",
       "      <th>Policy End Date</th>\n",
       "      <th>Gender</th>\n",
       "      <th>Age</th>\n",
       "      <th>First Transaction Date</th>\n",
       "      <th>No_Pol</th>\n",
       "      <th>ProductName</th>\n",
       "    </tr>\n",
       "  </thead>\n",
       "  <tbody>\n",
       "    <tr>\n",
       "      <th>0</th>\n",
       "      <td>0040R73</td>\n",
       "      <td>2010-05-14</td>\n",
       "      <td>2011-05-13</td>\n",
       "      <td>Male</td>\n",
       "      <td>30</td>\n",
       "      <td>2010-05-14</td>\n",
       "      <td>1</td>\n",
       "      <td>Car Classic</td>\n",
       "    </tr>\n",
       "    <tr>\n",
       "      <th>1</th>\n",
       "      <td>0046BNK</td>\n",
       "      <td>2010-11-29</td>\n",
       "      <td>2011-11-28</td>\n",
       "      <td>Female</td>\n",
       "      <td>79</td>\n",
       "      <td>2010-11-29</td>\n",
       "      <td>1</td>\n",
       "      <td>Car Classic</td>\n",
       "    </tr>\n",
       "    <tr>\n",
       "      <th>2</th>\n",
       "      <td>005QMC3</td>\n",
       "      <td>2010-03-21</td>\n",
       "      <td>2011-03-20</td>\n",
       "      <td>Male</td>\n",
       "      <td>43</td>\n",
       "      <td>2010-03-21</td>\n",
       "      <td>1</td>\n",
       "      <td>Car Classic</td>\n",
       "    </tr>\n",
       "  </tbody>\n",
       "</table>\n",
       "</div>"
      ],
      "text/plain": [
       "        ID Policy Start Date Policy End Date  Gender  Age  \\\n",
       "0  0040R73        2010-05-14      2011-05-13    Male   30   \n",
       "1  0046BNK        2010-11-29      2011-11-28  Female   79   \n",
       "2  005QMC3        2010-03-21      2011-03-20    Male   43   \n",
       "\n",
       "  First Transaction Date  No_Pol  ProductName  \n",
       "0             2010-05-14       1  Car Classic  \n",
       "1             2010-11-29       1  Car Classic  \n",
       "2             2010-03-21       1  Car Classic  "
      ]
     },
     "execution_count": 46,
     "metadata": {},
     "output_type": "execute_result"
    }
   ],
   "source": [
    "# Drop features with Over 20% Missing values\n",
    "new_data = pd.DataFrame()\n",
    "\n",
    "for var in all_data.columns:\n",
    "    if all_data[var].isnull().sum()/ all_data.shape[0] * 100  < 20:\n",
    "        new_data[var]=all_data[var]\n",
    "\n",
    "new_data.head(3)"
   ]
  },
  {
   "cell_type": "code",
   "execution_count": 47,
   "metadata": {},
   "outputs": [
    {
     "data": {
      "text/plain": [
       "['Gender', 'No_Pol', 'ProductName']"
      ]
     },
     "execution_count": 47,
     "metadata": {},
     "output_type": "execute_result"
    }
   ],
   "source": [
    "## Different Tpyes of features \n",
    "\n",
    "# Date Features\n",
    "date_col = ['Policy Start Date','Policy End Date','First Transaction Date']\n",
    "\n",
    "# Numeric Features \n",
    "num_col = ['Age']\n",
    "\n",
    "# Categorical Faetures \n",
    "cat_col = [col for col in new_data.columns if col not in date_col+num_col]\n",
    "\n",
    "# Drop ID\n",
    "cat_col.remove('ID')\n",
    "cat_col"
   ]
  },
  {
   "cell_type": "code",
   "execution_count": 48,
   "metadata": {},
   "outputs": [
    {
     "data": {
      "text/plain": [
       "ID                        0.000000\n",
       "Policy Start Date         0.000000\n",
       "Policy End Date           0.000000\n",
       "Gender                    0.029845\n",
       "Age                       0.000000\n",
       "First Transaction Date    0.000000\n",
       "No_Pol                    0.000000\n",
       "ProductName               0.000000\n",
       "dtype: float64"
      ]
     },
     "execution_count": 48,
     "metadata": {},
     "output_type": "execute_result"
    }
   ],
   "source": [
    "## Checking for Missing Values \n",
    "## Percentage of Missing in the dtrain data\n",
    "(new_data.isnull().sum()/ new_data.shape[0])"
   ]
  },
  {
   "cell_type": "code",
   "execution_count": 49,
   "metadata": {},
   "outputs": [
    {
     "data": {
      "text/html": [
       "<div>\n",
       "<style scoped>\n",
       "    .dataframe tbody tr th:only-of-type {\n",
       "        vertical-align: middle;\n",
       "    }\n",
       "\n",
       "    .dataframe tbody tr th {\n",
       "        vertical-align: top;\n",
       "    }\n",
       "\n",
       "    .dataframe thead th {\n",
       "        text-align: right;\n",
       "    }\n",
       "</style>\n",
       "<table border=\"1\" class=\"dataframe\">\n",
       "  <thead>\n",
       "    <tr style=\"text-align: right;\">\n",
       "      <th></th>\n",
       "      <th>Age</th>\n",
       "      <th>No_Pol</th>\n",
       "    </tr>\n",
       "  </thead>\n",
       "  <tbody>\n",
       "    <tr>\n",
       "      <th>count</th>\n",
       "      <td>17256.000000</td>\n",
       "      <td>17256.000000</td>\n",
       "    </tr>\n",
       "    <tr>\n",
       "      <th>mean</th>\n",
       "      <td>42.677272</td>\n",
       "      <td>1.307545</td>\n",
       "    </tr>\n",
       "    <tr>\n",
       "      <th>std</th>\n",
       "      <td>82.489880</td>\n",
       "      <td>0.726804</td>\n",
       "    </tr>\n",
       "    <tr>\n",
       "      <th>min</th>\n",
       "      <td>-6099.000000</td>\n",
       "      <td>1.000000</td>\n",
       "    </tr>\n",
       "    <tr>\n",
       "      <th>25%</th>\n",
       "      <td>34.000000</td>\n",
       "      <td>1.000000</td>\n",
       "    </tr>\n",
       "    <tr>\n",
       "      <th>50%</th>\n",
       "      <td>40.000000</td>\n",
       "      <td>1.000000</td>\n",
       "    </tr>\n",
       "    <tr>\n",
       "      <th>75%</th>\n",
       "      <td>50.000000</td>\n",
       "      <td>1.000000</td>\n",
       "    </tr>\n",
       "    <tr>\n",
       "      <th>max</th>\n",
       "      <td>320.000000</td>\n",
       "      <td>10.000000</td>\n",
       "    </tr>\n",
       "  </tbody>\n",
       "</table>\n",
       "</div>"
      ],
      "text/plain": [
       "                Age        No_Pol\n",
       "count  17256.000000  17256.000000\n",
       "mean      42.677272      1.307545\n",
       "std       82.489880      0.726804\n",
       "min    -6099.000000      1.000000\n",
       "25%       34.000000      1.000000\n",
       "50%       40.000000      1.000000\n",
       "75%       50.000000      1.000000\n",
       "max      320.000000     10.000000"
      ]
     },
     "execution_count": 49,
     "metadata": {},
     "output_type": "execute_result"
    }
   ],
   "source": [
    "## Numeric features\n",
    "new_data.describe()"
   ]
  },
  {
   "cell_type": "code",
   "execution_count": 50,
   "metadata": {},
   "outputs": [
    {
     "name": "stdout",
     "output_type": "stream",
     "text": [
      "909       -76\n",
      "1226       -2\n",
      "2580      -12\n",
      "3114       -2\n",
      "3427    -6099\n",
      "3518    -5939\n",
      "3649      -22\n",
      "5173    -5939\n",
      "6387      -12\n",
      "6856      -76\n",
      "7639      -27\n",
      "9206      -51\n",
      "10713     -76\n",
      "11085     -26\n",
      "11277      -2\n",
      "12364     -12\n",
      "12927     -12\n",
      "13320     -76\n",
      "13808     -26\n",
      "15504     -27\n",
      "16626     -51\n",
      "Name: Age, dtype: int64\n",
      "2487     320\n",
      "3493     320\n",
      "4511     320\n",
      "4969     320\n",
      "4975     320\n",
      "5730     320\n",
      "5885     320\n",
      "6137     320\n",
      "6185     320\n",
      "8123     320\n",
      "10090    320\n",
      "10819    320\n",
      "12459    320\n",
      "13148    320\n",
      "13932    320\n",
      "15175    320\n",
      "15287    320\n",
      "15728    320\n",
      "16350    320\n",
      "Name: Age, dtype: int64\n"
     ]
    },
    {
     "name": "stderr",
     "output_type": "stream",
     "text": [
      "<ipython-input-50-803b9a408a00>:6: SettingWithCopyWarning: \n",
      "A value is trying to be set on a copy of a slice from a DataFrame\n",
      "\n",
      "See the caveats in the documentation: https://pandas.pydata.org/pandas-docs/stable/user_guide/indexing.html#returning-a-view-versus-a-copy\n",
      "  new_data.Age[new_data['Age']< 0] = new_data.Age[new_data['Age']< 0]  - new_data.Age[new_data['Age']< 0]\n"
     ]
    }
   ],
   "source": [
    "#### Abnormal Age\n",
    "print(new_data.Age[new_data['Age']< 0])\n",
    "print(new_data.Age[new_data['Age']> 144])\n",
    "\n",
    "# Replacing it with Zer0\n",
    "new_data.Age[new_data['Age']< 0] = new_data.Age[new_data['Age']< 0]  - new_data.Age[new_data['Age']< 0]\n",
    "new_data.Age[new_data['Age']> 144] = new_data.Age[new_data['Age']> 144] -new_data.Age[new_data['Age']> 144] \n"
   ]
  },
  {
   "cell_type": "code",
   "execution_count": 51,
   "metadata": {},
   "outputs": [
    {
     "data": {
      "text/plain": [
       "count    17256.000000\n",
       "mean        43.400788\n",
       "std         19.586153\n",
       "min          0.000000\n",
       "25%         34.000000\n",
       "50%         40.000000\n",
       "75%         50.000000\n",
       "max        144.000000\n",
       "Name: Age, dtype: float64"
      ]
     },
     "execution_count": 51,
     "metadata": {},
     "output_type": "execute_result"
    }
   ],
   "source": [
    "new_data.Age.describe()"
   ]
  },
  {
   "cell_type": "code",
   "execution_count": 52,
   "metadata": {},
   "outputs": [
    {
     "name": "stdout",
     "output_type": "stream",
     "text": [
      "Gender ['Male' 'Female' 'Entity' 'Joint Gender' nan 'NO GENDER' 'NOT STATED'\n",
      " 'SEX']\n",
      " -------------------------------------------------------------- \n",
      " -------------------------------------------------------------- \n",
      "No_Pol [ 1  3  2  4  5  7 10  6]\n",
      " -------------------------------------------------------------- \n",
      " -------------------------------------------------------------- \n",
      "ProductName ['Car Classic' 'CarSafe' 'Muuve' 'CVTP' 'Car Plus' 'Motor Cycle'\n",
      " 'Customized Motor' 'CarFlex' 'Car Vintage']\n",
      " -------------------------------------------------------------- \n",
      " -------------------------------------------------------------- \n"
     ]
    }
   ],
   "source": [
    "## For Each  categorical variables in The Reduced Dataset , Find the Frequncy counts\n",
    "for var in cat_col:\n",
    "    print(var, new_data[var].unique())\n",
    "    print(\" -------------------------------------------------------------- \")\n",
    "    print(\" -------------------------------------------------------------- \")"
   ]
  },
  {
   "cell_type": "code",
   "execution_count": 53,
   "metadata": {},
   "outputs": [
    {
     "data": {
      "text/plain": [
       "<matplotlib.axes._subplots.AxesSubplot at 0x2185891a910>"
      ]
     },
     "execution_count": 53,
     "metadata": {},
     "output_type": "execute_result"
    },
    {
     "data": {
      "image/png": "[encoded data removed]",
      "text/plain": [
       "<Figure size 720x360 with 1 Axes>"
      ]
     },
     "metadata": {
      "needs_background": "light"
     },
     "output_type": "display_data"
    }
   ],
   "source": [
    "## Gender\n",
    "plt.figure(figsize=(10,5))\n",
    "sns.countplot(new_data.Gender)"
   ]
  },
  {
   "cell_type": "code",
   "execution_count": 54,
   "metadata": {},
   "outputs": [
    {
     "data": {
      "text/plain": [
       "<matplotlib.axes._subplots.AxesSubplot at 0x2185891a9d0>"
      ]
     },
     "execution_count": 54,
     "metadata": {},
     "output_type": "execute_result"
    },
    {
     "data": {
      "image/png": "[encoded data removed]",
      "text/plain": [
       "<Figure size 1080x360 with 1 Axes>"
      ]
     },
     "metadata": {
      "needs_background": "light"
     },
     "output_type": "display_data"
    }
   ],
   "source": [
    "## Number of Policies \n",
    "plt.figure(figsize=(15,5))\n",
    "sns.countplot(new_data.No_Pol)"
   ]
  },
  {
   "cell_type": "code",
   "execution_count": 55,
   "metadata": {},
   "outputs": [
    {
     "data": {
      "text/plain": [
       "<matplotlib.axes._subplots.AxesSubplot at 0x21858c74ca0>"
      ]
     },
     "execution_count": 55,
     "metadata": {},
     "output_type": "execute_result"
    },
    {
     "data": {
      "image/png": "[encoded data removed]",
      "text/plain": [
       "<Figure size 1080x360 with 1 Axes>"
      ]
     },
     "metadata": {
      "needs_background": "light"
     },
     "output_type": "display_data"
    }
   ],
   "source": [
    "## Product Name\n",
    "plt.figure(figsize=(15,5))\n",
    "sns.countplot(new_data.ProductName)"
   ]
  },
  {
   "cell_type": "code",
   "execution_count": 56,
   "metadata": {},
   "outputs": [
    {
     "data": {
      "text/plain": [
       "0"
      ]
     },
     "execution_count": 56,
     "metadata": {},
     "output_type": "execute_result"
    }
   ],
   "source": [
    "## Replacining the Missing Values in Genders with Others\n",
    "new_data['Gender'].fillna(value=\"Others\", inplace= True)\n",
    "new_data['Gender'].isnull().sum()"
   ]
  },
  {
   "cell_type": "code",
   "execution_count": 57,
   "metadata": {},
   "outputs": [
    {
     "data": {
      "text/plain": [
       "array(['Male', 'Female', 'Entity', 'Joint Gender', 'Others', 'NO GENDER',\n",
       "       'NOT STATED', 'SEX'], dtype=object)"
      ]
     },
     "execution_count": 57,
     "metadata": {},
     "output_type": "execute_result"
    }
   ],
   "source": [
    "new_data['Gender'].unique()"
   ]
  },
  {
   "cell_type": "code",
   "execution_count": 60,
   "metadata": {},
   "outputs": [
    {
     "data": {
      "text/plain": [
       "array(['M', 'F', 'O'], dtype=object)"
      ]
     },
     "execution_count": 60,
     "metadata": {},
     "output_type": "execute_result"
    }
   ],
   "source": [
    "## Map\n",
    "mapper = {\"Male\":\"M\",\"Female\":'F','Entity':'O','Joint Gender':'O','Others':'O','NO GENDER':'O','NOT STATED':'O','SEX':'O' }\n",
    "new_data.Gender = new_data.Gender.map(mapper)\n",
    "new_data.Gender.unique()"
   ]
  },
  {
   "cell_type": "code",
   "execution_count": 61,
   "metadata": {},
   "outputs": [
    {
     "data": {
      "text/plain": [
       "ID                        0\n",
       "Policy Start Date         0\n",
       "Policy End Date           0\n",
       "Gender                    0\n",
       "Age                       0\n",
       "First Transaction Date    0\n",
       "No_Pol                    0\n",
       "ProductName               0\n",
       "dtype: int64"
      ]
     },
     "execution_count": 61,
     "metadata": {},
     "output_type": "execute_result"
    }
   ],
   "source": [
    "new_data.isnull().sum()"
   ]
  },
  {
   "cell_type": "code",
   "execution_count": 62,
   "metadata": {},
   "outputs": [
    {
     "name": "stdout",
     "output_type": "stream",
     "text": [
      "['Policy Start Date', 'Policy End Date', 'First Transaction Date']\n"
     ]
    }
   ],
   "source": [
    "## Date Features\n",
    "print(date_col)\n",
    "## Converting to Date \n",
    "for var in date_col:\n",
    "    new_data[var] = pd.to_datetime(new_data[var])\n",
    "\n",
    "    "
   ]
  },
  {
   "cell_type": "code",
   "execution_count": 63,
   "metadata": {},
   "outputs": [
    {
     "name": "stdout",
     "output_type": "stream",
     "text": [
      "<class 'pandas.core.frame.DataFrame'>\n",
      "RangeIndex: 17256 entries, 0 to 17255\n",
      "Data columns (total 8 columns):\n",
      " #   Column                  Non-Null Count  Dtype         \n",
      "---  ------                  --------------  -----         \n",
      " 0   ID                      17256 non-null  object        \n",
      " 1   Policy Start Date       17256 non-null  datetime64[ns]\n",
      " 2   Policy End Date         17256 non-null  datetime64[ns]\n",
      " 3   Gender                  17256 non-null  object        \n",
      " 4   Age                     17256 non-null  int64         \n",
      " 5   First Transaction Date  17256 non-null  datetime64[ns]\n",
      " 6   No_Pol                  17256 non-null  int64         \n",
      " 7   ProductName             17256 non-null  object        \n",
      "dtypes: datetime64[ns](3), int64(2), object(3)\n",
      "memory usage: 1.1+ MB\n"
     ]
    }
   ],
   "source": [
    "# Informnation About the dataset\n",
    "new_data.info()"
   ]
  },
  {
   "cell_type": "code",
   "execution_count": 64,
   "metadata": {},
   "outputs": [],
   "source": [
    "##Function that Numbers from the Date and Add it to the Dataframe\n",
    "def extract_date_info(df,cols,):\n",
    "    for var in cols:\n",
    "        df[var +'_year'] = df[var].dt.year\n",
    "        df[var +'_day'] = df[var].dt.day\n",
    "        df[var +'_month'] = df[var].dt.month\n",
    "        df[var +'_quarter'] = df[var].dt.quarter\n",
    "    df.drop(columns=date_col,axis=1,inplace=True)"
   ]
  },
  {
   "cell_type": "code",
   "execution_count": 65,
   "metadata": {},
   "outputs": [
    {
     "data": {
      "text/html": [
       "<div>\n",
       "<style scoped>\n",
       "    .dataframe tbody tr th:only-of-type {\n",
       "        vertical-align: middle;\n",
       "    }\n",
       "\n",
       "    .dataframe tbody tr th {\n",
       "        vertical-align: top;\n",
       "    }\n",
       "\n",
       "    .dataframe thead th {\n",
       "        text-align: right;\n",
       "    }\n",
       "</style>\n",
       "<table border=\"1\" class=\"dataframe\">\n",
       "  <thead>\n",
       "    <tr style=\"text-align: right;\">\n",
       "      <th></th>\n",
       "      <th>Gender</th>\n",
       "      <th>Age</th>\n",
       "      <th>No_Pol</th>\n",
       "      <th>ProductName</th>\n",
       "      <th>Policy Start Date_year</th>\n",
       "      <th>Policy Start Date_day</th>\n",
       "      <th>Policy Start Date_month</th>\n",
       "      <th>Policy Start Date_quarter</th>\n",
       "      <th>Policy End Date_year</th>\n",
       "      <th>Policy End Date_day</th>\n",
       "      <th>Policy End Date_month</th>\n",
       "      <th>Policy End Date_quarter</th>\n",
       "      <th>First Transaction Date_year</th>\n",
       "      <th>First Transaction Date_day</th>\n",
       "      <th>First Transaction Date_month</th>\n",
       "      <th>First Transaction Date_quarter</th>\n",
       "    </tr>\n",
       "  </thead>\n",
       "  <tbody>\n",
       "    <tr>\n",
       "      <th>0</th>\n",
       "      <td>M</td>\n",
       "      <td>30</td>\n",
       "      <td>1</td>\n",
       "      <td>Car Classic</td>\n",
       "      <td>2010</td>\n",
       "      <td>14</td>\n",
       "      <td>5</td>\n",
       "      <td>2</td>\n",
       "      <td>2011</td>\n",
       "      <td>13</td>\n",
       "      <td>5</td>\n",
       "      <td>2</td>\n",
       "      <td>2010</td>\n",
       "      <td>14</td>\n",
       "      <td>5</td>\n",
       "      <td>2</td>\n",
       "    </tr>\n",
       "    <tr>\n",
       "      <th>1</th>\n",
       "      <td>F</td>\n",
       "      <td>79</td>\n",
       "      <td>1</td>\n",
       "      <td>Car Classic</td>\n",
       "      <td>2010</td>\n",
       "      <td>29</td>\n",
       "      <td>11</td>\n",
       "      <td>4</td>\n",
       "      <td>2011</td>\n",
       "      <td>28</td>\n",
       "      <td>11</td>\n",
       "      <td>4</td>\n",
       "      <td>2010</td>\n",
       "      <td>29</td>\n",
       "      <td>11</td>\n",
       "      <td>4</td>\n",
       "    </tr>\n",
       "    <tr>\n",
       "      <th>2</th>\n",
       "      <td>M</td>\n",
       "      <td>43</td>\n",
       "      <td>1</td>\n",
       "      <td>Car Classic</td>\n",
       "      <td>2010</td>\n",
       "      <td>21</td>\n",
       "      <td>3</td>\n",
       "      <td>1</td>\n",
       "      <td>2011</td>\n",
       "      <td>20</td>\n",
       "      <td>3</td>\n",
       "      <td>1</td>\n",
       "      <td>2010</td>\n",
       "      <td>21</td>\n",
       "      <td>3</td>\n",
       "      <td>1</td>\n",
       "    </tr>\n",
       "  </tbody>\n",
       "</table>\n",
       "</div>"
      ],
      "text/plain": [
       "  Gender  Age  No_Pol  ProductName  Policy Start Date_year  \\\n",
       "0      M   30       1  Car Classic                    2010   \n",
       "1      F   79       1  Car Classic                    2010   \n",
       "2      M   43       1  Car Classic                    2010   \n",
       "\n",
       "   Policy Start Date_day  Policy Start Date_month  Policy Start Date_quarter  \\\n",
       "0                     14                        5                          2   \n",
       "1                     29                       11                          4   \n",
       "2                     21                        3                          1   \n",
       "\n",
       "   Policy End Date_year  Policy End Date_day  Policy End Date_month  \\\n",
       "0                  2011                   13                      5   \n",
       "1                  2011                   28                     11   \n",
       "2                  2011                   20                      3   \n",
       "\n",
       "   Policy End Date_quarter  First Transaction Date_year  \\\n",
       "0                        2                         2010   \n",
       "1                        4                         2010   \n",
       "2                        1                         2010   \n",
       "\n",
       "   First Transaction Date_day  First Transaction Date_month  \\\n",
       "0                          14                             5   \n",
       "1                          29                            11   \n",
       "2                          21                             3   \n",
       "\n",
       "   First Transaction Date_quarter  \n",
       "0                               2  \n",
       "1                               4  \n",
       "2                               1  "
      ]
     },
     "execution_count": 65,
     "metadata": {},
     "output_type": "execute_result"
    }
   ],
   "source": [
    "###\n",
    "extract_date_info(new_data,date_col)\n",
    "### Drop the ID Columns\n",
    "new_data.drop(columns=['ID'],inplace=True)\n",
    "new_data.head(3)"
   ]
  },
  {
   "cell_type": "code",
   "execution_count": 66,
   "metadata": {},
   "outputs": [
    {
     "data": {
      "text/html": [
       "<div>\n",
       "<style scoped>\n",
       "    .dataframe tbody tr th:only-of-type {\n",
       "        vertical-align: middle;\n",
       "    }\n",
       "\n",
       "    .dataframe tbody tr th {\n",
       "        vertical-align: top;\n",
       "    }\n",
       "\n",
       "    .dataframe thead th {\n",
       "        text-align: right;\n",
       "    }\n",
       "</style>\n",
       "<table border=\"1\" class=\"dataframe\">\n",
       "  <thead>\n",
       "    <tr style=\"text-align: right;\">\n",
       "      <th></th>\n",
       "      <th>Age</th>\n",
       "      <th>No_Pol</th>\n",
       "      <th>Policy Start Date_year</th>\n",
       "      <th>Policy Start Date_day</th>\n",
       "      <th>Policy Start Date_month</th>\n",
       "      <th>Policy Start Date_quarter</th>\n",
       "      <th>Policy End Date_year</th>\n",
       "      <th>Policy End Date_day</th>\n",
       "      <th>Policy End Date_month</th>\n",
       "      <th>Policy End Date_quarter</th>\n",
       "      <th>...</th>\n",
       "      <th>0_O</th>\n",
       "      <th>3_CVTP</th>\n",
       "      <th>3_Car Classic</th>\n",
       "      <th>3_Car Plus</th>\n",
       "      <th>3_Car Vintage</th>\n",
       "      <th>3_CarFlex</th>\n",
       "      <th>3_CarSafe</th>\n",
       "      <th>3_Customized Motor</th>\n",
       "      <th>3_Motor Cycle</th>\n",
       "      <th>3_Muuve</th>\n",
       "    </tr>\n",
       "  </thead>\n",
       "  <tbody>\n",
       "    <tr>\n",
       "      <th>0</th>\n",
       "      <td>30</td>\n",
       "      <td>1</td>\n",
       "      <td>2010</td>\n",
       "      <td>14</td>\n",
       "      <td>5</td>\n",
       "      <td>2</td>\n",
       "      <td>2011</td>\n",
       "      <td>13</td>\n",
       "      <td>5</td>\n",
       "      <td>2</td>\n",
       "      <td>...</td>\n",
       "      <td>0</td>\n",
       "      <td>0</td>\n",
       "      <td>1</td>\n",
       "      <td>0</td>\n",
       "      <td>0</td>\n",
       "      <td>0</td>\n",
       "      <td>0</td>\n",
       "      <td>0</td>\n",
       "      <td>0</td>\n",
       "      <td>0</td>\n",
       "    </tr>\n",
       "    <tr>\n",
       "      <th>1</th>\n",
       "      <td>79</td>\n",
       "      <td>1</td>\n",
       "      <td>2010</td>\n",
       "      <td>29</td>\n",
       "      <td>11</td>\n",
       "      <td>4</td>\n",
       "      <td>2011</td>\n",
       "      <td>28</td>\n",
       "      <td>11</td>\n",
       "      <td>4</td>\n",
       "      <td>...</td>\n",
       "      <td>0</td>\n",
       "      <td>0</td>\n",
       "      <td>1</td>\n",
       "      <td>0</td>\n",
       "      <td>0</td>\n",
       "      <td>0</td>\n",
       "      <td>0</td>\n",
       "      <td>0</td>\n",
       "      <td>0</td>\n",
       "      <td>0</td>\n",
       "    </tr>\n",
       "    <tr>\n",
       "      <th>2</th>\n",
       "      <td>43</td>\n",
       "      <td>1</td>\n",
       "      <td>2010</td>\n",
       "      <td>21</td>\n",
       "      <td>3</td>\n",
       "      <td>1</td>\n",
       "      <td>2011</td>\n",
       "      <td>20</td>\n",
       "      <td>3</td>\n",
       "      <td>1</td>\n",
       "      <td>...</td>\n",
       "      <td>0</td>\n",
       "      <td>0</td>\n",
       "      <td>1</td>\n",
       "      <td>0</td>\n",
       "      <td>0</td>\n",
       "      <td>0</td>\n",
       "      <td>0</td>\n",
       "      <td>0</td>\n",
       "      <td>0</td>\n",
       "      <td>0</td>\n",
       "    </tr>\n",
       "  </tbody>\n",
       "</table>\n",
       "<p>3 rows × 26 columns</p>\n",
       "</div>"
      ],
      "text/plain": [
       "   Age  No_Pol  Policy Start Date_year  Policy Start Date_day  \\\n",
       "0   30       1                    2010                     14   \n",
       "1   79       1                    2010                     29   \n",
       "2   43       1                    2010                     21   \n",
       "\n",
       "   Policy Start Date_month  Policy Start Date_quarter  Policy End Date_year  \\\n",
       "0                        5                          2                  2011   \n",
       "1                       11                          4                  2011   \n",
       "2                        3                          1                  2011   \n",
       "\n",
       "   Policy End Date_day  Policy End Date_month  Policy End Date_quarter  ...  \\\n",
       "0                   13                      5                        2  ...   \n",
       "1                   28                     11                        4  ...   \n",
       "2                   20                      3                        1  ...   \n",
       "\n",
       "   0_O  3_CVTP  3_Car Classic  3_Car Plus  3_Car Vintage  3_CarFlex  \\\n",
       "0    0       0              1           0              0          0   \n",
       "1    0       0              1           0              0          0   \n",
       "2    0       0              1           0              0          0   \n",
       "\n",
       "   3_CarSafe  3_Customized Motor  3_Motor Cycle  3_Muuve  \n",
       "0          0                   0              0        0  \n",
       "1          0                   0              0        0  \n",
       "2          0                   0              0        0  \n",
       "\n",
       "[3 rows x 26 columns]"
      ]
     },
     "execution_count": 66,
     "metadata": {},
     "output_type": "execute_result"
    }
   ],
   "source": [
    "# Encoding Categorical Variables \n",
    "new_data1 = pd.get_dummies(new_data,prefix=[0,3])\n",
    "new_data1.head(3)"
   ]
  },
  {
   "cell_type": "code",
   "execution_count": 68,
   "metadata": {},
   "outputs": [],
   "source": [
    "new_data1.columns\n",
    "new_data1.drop([\"0_O\",\"3_CVTP\"],axis=1,inplace=True)"
   ]
  },
  {
   "cell_type": "code",
   "execution_count": 71,
   "metadata": {},
   "outputs": [
    {
     "name": "stderr",
     "output_type": "stream",
     "text": [
      "<ipython-input-71-af2c1e2da6b6>:6: SettingWithCopyWarning: \n",
      "A value is trying to be set on a copy of a slice from a DataFrame.\n",
      "Try using .loc[row_indexer,col_indexer] = value instead\n",
      "\n",
      "See the caveats in the documentation: https://pandas.pydata.org/pandas-docs/stable/user_guide/indexing.html#returning-a-view-versus-a-copy\n",
      "  new_train['Target']=train.target\n"
     ]
    }
   ],
   "source": [
    "###Get the new dataset\n",
    "new_train= new_data1[:ntrain]\n",
    "new_test = new_data1[ntrain:]\n",
    "\n",
    "# \n",
    "new_train['Target']=train.target"
   ]
  },
  {
   "cell_type": "code",
   "execution_count": 72,
   "metadata": {},
   "outputs": [
    {
     "name": "stdout",
     "output_type": "stream",
     "text": [
      "<class 'pandas.core.frame.DataFrame'>\n",
      "RangeIndex: 12079 entries, 0 to 12078\n",
      "Data columns (total 25 columns):\n",
      " #   Column                          Non-Null Count  Dtype\n",
      "---  ------                          --------------  -----\n",
      " 0   Age                             12079 non-null  int64\n",
      " 1   No_Pol                          12079 non-null  int64\n",
      " 2   Policy Start Date_year          12079 non-null  int64\n",
      " 3   Policy Start Date_day           12079 non-null  int64\n",
      " 4   Policy Start Date_month         12079 non-null  int64\n",
      " 5   Policy Start Date_quarter       12079 non-null  int64\n",
      " 6   Policy End Date_year            12079 non-null  int64\n",
      " 7   Policy End Date_day             12079 non-null  int64\n",
      " 8   Policy End Date_month           12079 non-null  int64\n",
      " 9   Policy End Date_quarter         12079 non-null  int64\n",
      " 10  First Transaction Date_year     12079 non-null  int64\n",
      " 11  First Transaction Date_day      12079 non-null  int64\n",
      " 12  First Transaction Date_month    12079 non-null  int64\n",
      " 13  First Transaction Date_quarter  12079 non-null  int64\n",
      " 14  0_F                             12079 non-null  uint8\n",
      " 15  0_M                             12079 non-null  uint8\n",
      " 16  3_Car Classic                   12079 non-null  uint8\n",
      " 17  3_Car Plus                      12079 non-null  uint8\n",
      " 18  3_Car Vintage                   12079 non-null  uint8\n",
      " 19  3_CarFlex                       12079 non-null  uint8\n",
      " 20  3_CarSafe                       12079 non-null  uint8\n",
      " 21  3_Customized Motor              12079 non-null  uint8\n",
      " 22  3_Motor Cycle                   12079 non-null  uint8\n",
      " 23  3_Muuve                         12079 non-null  uint8\n",
      " 24  Target                          12079 non-null  int64\n",
      "dtypes: int64(15), uint8(10)\n",
      "memory usage: 1.5 MB\n",
      "None\n"
     ]
    },
    {
     "data": {
      "text/html": [
       "<div>\n",
       "<style scoped>\n",
       "    .dataframe tbody tr th:only-of-type {\n",
       "        vertical-align: middle;\n",
       "    }\n",
       "\n",
       "    .dataframe tbody tr th {\n",
       "        vertical-align: top;\n",
       "    }\n",
       "\n",
       "    .dataframe thead th {\n",
       "        text-align: right;\n",
       "    }\n",
       "</style>\n",
       "<table border=\"1\" class=\"dataframe\">\n",
       "  <thead>\n",
       "    <tr style=\"text-align: right;\">\n",
       "      <th></th>\n",
       "      <th>Age</th>\n",
       "      <th>No_Pol</th>\n",
       "      <th>Policy Start Date_year</th>\n",
       "      <th>Policy Start Date_day</th>\n",
       "      <th>Policy Start Date_month</th>\n",
       "      <th>Policy Start Date_quarter</th>\n",
       "      <th>Policy End Date_year</th>\n",
       "      <th>Policy End Date_day</th>\n",
       "      <th>Policy End Date_month</th>\n",
       "      <th>Policy End Date_quarter</th>\n",
       "      <th>...</th>\n",
       "      <th>0_M</th>\n",
       "      <th>3_Car Classic</th>\n",
       "      <th>3_Car Plus</th>\n",
       "      <th>3_Car Vintage</th>\n",
       "      <th>3_CarFlex</th>\n",
       "      <th>3_CarSafe</th>\n",
       "      <th>3_Customized Motor</th>\n",
       "      <th>3_Motor Cycle</th>\n",
       "      <th>3_Muuve</th>\n",
       "      <th>Target</th>\n",
       "    </tr>\n",
       "  </thead>\n",
       "  <tbody>\n",
       "    <tr>\n",
       "      <th>0</th>\n",
       "      <td>30</td>\n",
       "      <td>1</td>\n",
       "      <td>2010</td>\n",
       "      <td>14</td>\n",
       "      <td>5</td>\n",
       "      <td>2</td>\n",
       "      <td>2011</td>\n",
       "      <td>13</td>\n",
       "      <td>5</td>\n",
       "      <td>2</td>\n",
       "      <td>...</td>\n",
       "      <td>1</td>\n",
       "      <td>1</td>\n",
       "      <td>0</td>\n",
       "      <td>0</td>\n",
       "      <td>0</td>\n",
       "      <td>0</td>\n",
       "      <td>0</td>\n",
       "      <td>0</td>\n",
       "      <td>0</td>\n",
       "      <td>0</td>\n",
       "    </tr>\n",
       "    <tr>\n",
       "      <th>1</th>\n",
       "      <td>79</td>\n",
       "      <td>1</td>\n",
       "      <td>2010</td>\n",
       "      <td>29</td>\n",
       "      <td>11</td>\n",
       "      <td>4</td>\n",
       "      <td>2011</td>\n",
       "      <td>28</td>\n",
       "      <td>11</td>\n",
       "      <td>4</td>\n",
       "      <td>...</td>\n",
       "      <td>0</td>\n",
       "      <td>1</td>\n",
       "      <td>0</td>\n",
       "      <td>0</td>\n",
       "      <td>0</td>\n",
       "      <td>0</td>\n",
       "      <td>0</td>\n",
       "      <td>0</td>\n",
       "      <td>0</td>\n",
       "      <td>1</td>\n",
       "    </tr>\n",
       "    <tr>\n",
       "      <th>2</th>\n",
       "      <td>43</td>\n",
       "      <td>1</td>\n",
       "      <td>2010</td>\n",
       "      <td>21</td>\n",
       "      <td>3</td>\n",
       "      <td>1</td>\n",
       "      <td>2011</td>\n",
       "      <td>20</td>\n",
       "      <td>3</td>\n",
       "      <td>1</td>\n",
       "      <td>...</td>\n",
       "      <td>1</td>\n",
       "      <td>1</td>\n",
       "      <td>0</td>\n",
       "      <td>0</td>\n",
       "      <td>0</td>\n",
       "      <td>0</td>\n",
       "      <td>0</td>\n",
       "      <td>0</td>\n",
       "      <td>0</td>\n",
       "      <td>0</td>\n",
       "    </tr>\n",
       "  </tbody>\n",
       "</table>\n",
       "<p>3 rows × 25 columns</p>\n",
       "</div>"
      ],
      "text/plain": [
       "   Age  No_Pol  Policy Start Date_year  Policy Start Date_day  \\\n",
       "0   30       1                    2010                     14   \n",
       "1   79       1                    2010                     29   \n",
       "2   43       1                    2010                     21   \n",
       "\n",
       "   Policy Start Date_month  Policy Start Date_quarter  Policy End Date_year  \\\n",
       "0                        5                          2                  2011   \n",
       "1                       11                          4                  2011   \n",
       "2                        3                          1                  2011   \n",
       "\n",
       "   Policy End Date_day  Policy End Date_month  Policy End Date_quarter  ...  \\\n",
       "0                   13                      5                        2  ...   \n",
       "1                   28                     11                        4  ...   \n",
       "2                   20                      3                        1  ...   \n",
       "\n",
       "   0_M  3_Car Classic  3_Car Plus  3_Car Vintage  3_CarFlex  3_CarSafe  \\\n",
       "0    1              1           0              0          0          0   \n",
       "1    0              1           0              0          0          0   \n",
       "2    1              1           0              0          0          0   \n",
       "\n",
       "   3_Customized Motor  3_Motor Cycle  3_Muuve  Target  \n",
       "0                   0              0        0       0  \n",
       "1                   0              0        0       1  \n",
       "2                   0              0        0       0  \n",
       "\n",
       "[3 rows x 25 columns]"
      ]
     },
     "execution_count": 72,
     "metadata": {},
     "output_type": "execute_result"
    }
   ],
   "source": [
    "print(new_train.info())\n",
    "new_train.head(3)"
   ]
  },
  {
   "cell_type": "code",
   "execution_count": 73,
   "metadata": {},
   "outputs": [
    {
     "data": {
      "text/plain": [
       "((12079, 24), (12079,))"
      ]
     },
     "execution_count": 73,
     "metadata": {},
     "output_type": "execute_result"
    }
   ],
   "source": [
    "X = new_train.iloc[:,0:24].values\n",
    "y = new_train.iloc[:,24].values\n",
    "X.shape, y.shape"
   ]
  },
  {
   "cell_type": "markdown",
   "metadata": {},
   "source": [
    "### Training and Validating The Model Using  the new_train dataset"
   ]
  },
  {
   "cell_type": "code",
   "execution_count": 74,
   "metadata": {},
   "outputs": [],
   "source": [
    "from sklearn.model_selection import train_test_split\n",
    "X_train,X_val,y_train,y_val = train_test_split(X,y,test_size=0.7,random_state=0)"
   ]
  },
  {
   "cell_type": "code",
   "execution_count": 75,
   "metadata": {},
   "outputs": [],
   "source": [
    "## Feature Scaling\n",
    "from sklearn.preprocessing import MinMaxScaler\n",
    "scaler =MinMaxScaler()\n",
    "X_train_scaled = scaler.fit_transform(X_train)\n",
    "X_val_scaled = scaler.transform(X_val)"
   ]
  },
  {
   "cell_type": "code",
   "execution_count": 78,
   "metadata": {},
   "outputs": [],
   "source": [
    "### Trainng and Evaluating Differnt Models\n",
    "from sklearn.metrics import f1_score\n",
    "from sklearn.ensemble import RandomForestClassifier\n",
    "from sklearn.ensemble import ExtraTreesClassifier\n",
    "from sklearn.tree import DecisionTreeClassifier\n",
    "from sklearn.metrics import classification_report\n",
    "target_names = ['class 0', 'class 1']"
   ]
  },
  {
   "cell_type": "code",
   "execution_count": 85,
   "metadata": {},
   "outputs": [
    {
     "name": "stdout",
     "output_type": "stream",
     "text": [
      "*************** Classification report on training set ********************\n",
      "              precision    recall  f1-score   support\n",
      "\n",
      "     class 0     0.8927    0.9629    0.9265      7416\n",
      "     class 1     0.3982    0.1750    0.2432      1040\n",
      "\n",
      "    accuracy                         0.8660      8456\n",
      "   macro avg     0.6455    0.5690    0.5848      8456\n",
      "weighted avg     0.8319    0.8660    0.8425      8456\n",
      "\n",
      "0.24315297261189042\n"
     ]
    }
   ],
   "source": [
    "# Ramdom forest\n",
    "#initialize\n",
    "rfc =RandomForestClassifier(random_state=0)\n",
    "#fit \n",
    "rfc.fit(X_train_scaled,y_train)\n",
    "\n",
    "# predict\n",
    "y_val_pred = rfc.predict(X_val_scaled)\n",
    "\n",
    "# Evaluation\n",
    "\n",
    "print('*************** Classification report on training set ********************')\n",
    "print(classification_report(y_val,y_val_pred , target_names=target_names,digits=4))\n",
    "print(f1_score(y_val,y_val_pred))\n"
   ]
  },
  {
   "cell_type": "code",
   "execution_count": 84,
   "metadata": {},
   "outputs": [
    {
     "name": "stdout",
     "output_type": "stream",
     "text": [
      "*************** Classification report on training set ********************\n",
      "              precision    recall  f1-score   support\n",
      "\n",
      "     class 0     0.8919    0.9461    0.9182      7416\n",
      "     class 1     0.3220    0.1827    0.2331      1040\n",
      "\n",
      "    accuracy                         0.8522      8456\n",
      "   macro avg     0.6070    0.5644    0.5757      8456\n",
      "weighted avg     0.8218    0.8522    0.8339      8456\n",
      "\n",
      "0.2331288343558282\n"
     ]
    }
   ],
   "source": [
    "# Extra Trees \n",
    "#initialize\n",
    "etc =ExtraTreesClassifier(random_state=0)\n",
    "#fit \n",
    "etc.fit(X_train_scaled,y_train)\n",
    "\n",
    "# predict\n",
    "y_val_pred = etc.predict(X_val_scaled)\n",
    "\n",
    "# Evaluation\n",
    "\n",
    "print('*************** Classification report on training set ********************')\n",
    "print(classification_report(y_val,y_val_pred , target_names=target_names,digits=4))\n",
    "print(f1_score(y_val,y_val_pred))\n",
    "\n"
   ]
  },
  {
   "cell_type": "code",
   "execution_count": 86,
   "metadata": {},
   "outputs": [
    {
     "name": "stdout",
     "output_type": "stream",
     "text": [
      "*************** Classification report on training set ********************\n",
      "              precision    recall  f1-score   support\n",
      "\n",
      "     class 0       0.90      0.90      0.90      7416\n",
      "     class 1       0.27      0.26      0.27      1040\n",
      "\n",
      "    accuracy                           0.82      8456\n",
      "   macro avg       0.59      0.58      0.58      8456\n",
      "weighted avg       0.82      0.82      0.82      8456\n",
      "\n",
      "0.2659416707859615\n"
     ]
    }
   ],
   "source": [
    "# Decision tress Classifier\n",
    "#initialize\n",
    "dtc =DecisionTreeClassifier(random_state=0)\n",
    "#fit \n",
    "dtc.fit(X_train_scaled,y_train)\n",
    "\n",
    "# predict\n",
    "y_val_pred = dtc.predict(X_val_scaled)\n",
    "\n",
    "# Evaluation\n",
    "\n",
    "print('*************** Classification report on training set ********************')\n",
    "print(classification_report(y_val,y_val_pred , target_names=target_names))\n",
    "print(f1_score(y_val,y_val_pred))\n"
   ]
  },
  {
   "cell_type": "markdown",
   "metadata": {},
   "source": [
    "### Training On the whole train"
   ]
  },
  {
   "cell_type": "code",
   "execution_count": 87,
   "metadata": {},
   "outputs": [],
   "source": [
    "## Feature Scaling\n",
    "from sklearn.preprocessing import MinMaxScaler\n",
    "scaler =MinMaxScaler()\n",
    "X_scaled = scaler.fit_transform(X)\n",
    "X_test = scaler.fit_transform(new_test)"
   ]
  },
  {
   "cell_type": "code",
   "execution_count": 88,
   "metadata": {},
   "outputs": [
    {
     "data": {
      "text/plain": [
       "RandomForestClassifier()"
      ]
     },
     "execution_count": 88,
     "metadata": {},
     "output_type": "execute_result"
    }
   ],
   "source": [
    "# Ramdom forest\n",
    "#initialize\n",
    "rfc =RandomForestClassifier()\n",
    "#fit \n",
    "rfc.fit(X_scaled,y)"
   ]
  },
  {
   "cell_type": "code",
   "execution_count": 89,
   "metadata": {},
   "outputs": [],
   "source": [
    "# predict\n",
    "prediction = rfc.predict(X_test)"
   ]
  },
  {
   "cell_type": "code",
   "execution_count": 90,
   "metadata": {},
   "outputs": [
    {
     "data": {
      "text/plain": [
       "<matplotlib.axes._subplots.AxesSubplot at 0x21859c8a130>"
      ]
     },
     "execution_count": 90,
     "metadata": {},
     "output_type": "execute_result"
    },
    {
     "data": {
      "image/png": "[encoded data removed]",
      "text/plain": [
       "<Figure size 432x288 with 1 Axes>"
      ]
     },
     "metadata": {
      "needs_background": "light"
     },
     "output_type": "display_data"
    }
   ],
   "source": [
    "sns.countplot(prediction)"
   ]
  },
  {
   "cell_type": "code",
   "execution_count": 94,
   "metadata": {},
   "outputs": [],
   "source": [
    "submission_file = sample_submission.copy()\n",
    "submission_file.target = prediction\n",
    "submission_file.to_csv('prediction.csv',index=False)"
   ]
  },
  {
   "cell_type": "code",
   "execution_count": 95,
   "metadata": {},
   "outputs": [
    {
     "data": {
      "text/html": [
       "<div>\n",
       "<style scoped>\n",
       "    .dataframe tbody tr th:only-of-type {\n",
       "        vertical-align: middle;\n",
       "    }\n",
       "\n",
       "    .dataframe tbody tr th {\n",
       "        vertical-align: top;\n",
       "    }\n",
       "\n",
       "    .dataframe thead th {\n",
       "        text-align: right;\n",
       "    }\n",
       "</style>\n",
       "<table border=\"1\" class=\"dataframe\">\n",
       "  <thead>\n",
       "    <tr style=\"text-align: right;\">\n",
       "      <th></th>\n",
       "      <th>ID</th>\n",
       "      <th>target</th>\n",
       "    </tr>\n",
       "  </thead>\n",
       "  <tbody>\n",
       "    <tr>\n",
       "      <th>0</th>\n",
       "      <td>009D84L</td>\n",
       "      <td>1</td>\n",
       "    </tr>\n",
       "    <tr>\n",
       "      <th>1</th>\n",
       "      <td>01DO2EQ</td>\n",
       "      <td>1</td>\n",
       "    </tr>\n",
       "    <tr>\n",
       "      <th>2</th>\n",
       "      <td>01QM0NU</td>\n",
       "      <td>0</td>\n",
       "    </tr>\n",
       "    <tr>\n",
       "      <th>3</th>\n",
       "      <td>024NJLZ</td>\n",
       "      <td>1</td>\n",
       "    </tr>\n",
       "  </tbody>\n",
       "</table>\n",
       "</div>"
      ],
      "text/plain": [
       "        ID  target\n",
       "0  009D84L       1\n",
       "1  01DO2EQ       1\n",
       "2  01QM0NU       0\n",
       "3  024NJLZ       1"
      ]
     },
     "execution_count": 95,
     "metadata": {},
     "output_type": "execute_result"
    }
   ],
   "source": [
    "submission_file.head(4)"
   ]
  },
  {
   "cell_type": "code",
   "execution_count": 96,
   "metadata": {},
   "outputs": [],
   "source": [
    "### Saving The Model using the Pickle Libaray and Joblib Libaray"
   ]
  },
  {
   "cell_type": "code",
   "execution_count": 98,
   "metadata": {},
   "outputs": [],
   "source": [
    "import pickle\n",
    "\n",
    "with open('randomforest_UmojaHack_Model','wb') as f:\n",
    "    pickle.dump(rfc,f)"
   ]
  },
  {
   "cell_type": "code",
   "execution_count": null,
   "metadata": {},
   "outputs": [],
   "source": []
  },
  {
   "cell_type": "code",
   "execution_count": null,
   "metadata": {},
   "outputs": [],
   "source": []
  }
 ],
 "metadata": {
  "kernelspec": {
   "display_name": "Python 3",
   "language": "python",
   "name": "python3"
  },
  "language_info": {
   "codemirror_mode": {
    "name": "ipython",
    "version": 3
   },
   "file_extension": ".py",
   "mimetype": "text/x-python",
   "name": "python",
   "nbconvert_exporter": "python",
   "pygments_lexer": "ipython3",
   "version": "3.8.3"
  }
 },
 "nbformat": 4,
 "nbformat_minor": 4
}
